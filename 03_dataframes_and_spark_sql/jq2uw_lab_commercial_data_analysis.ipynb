{
 "cells": [
  {
   "cell_type": "markdown",
   "metadata": {},
   "source": [
    "### Lab Assignment: Commercial Data Analysis\n",
    "\n",
    "### University of Virginia\n",
    "### DS 7200: Distributed Computing\n",
    "### Last Updated: August 20, 2023\n",
    "\n",
    "\n",
    "#### Jiaxing Qiu\n",
    "#### JQ2UW\n",
    "---"
   ]
  },
  {
   "cell_type": "markdown",
   "metadata": {},
   "source": [
    "### INSTRUCTIONS  \n",
    "In this assignment, you will work with a dataset containing information about businesses.  \n",
    "Each record is a business location.  Follow the steps below, writing and running the code in blocks, and displaying the solutions.  \n",
    "\n",
    "Each question part is worth 1 POINT, for a total of 15 POINTS.\n",
    "\n",
    "Hint: reaching deeper fields in json hierarchy can be done like this:  \n",
    "\n",
    "`df.select('address.street_number')`\n",
    "\n",
    "---"
   ]
  },
  {
   "cell_type": "code",
   "execution_count": 1,
   "metadata": {},
   "outputs": [],
   "source": [
    "# pip install pyspark"
   ]
  },
  {
   "cell_type": "code",
   "execution_count": 3,
   "metadata": {},
   "outputs": [],
   "source": [
    "from pyspark.sql import SparkSession\n",
    "\n",
    "spark = SparkSession.builder \\\n",
    "        .appName(\"comm\") \\\n",
    "        .getOrCreate()"
   ]
  },
  {
   "cell_type": "code",
   "execution_count": 1,
   "metadata": {},
   "outputs": [],
   "source": [
    "# note that read.json can read a zipped JSON directly"
   ]
  },
  {
   "cell_type": "markdown",
   "metadata": {},
   "source": [
    "**1. (1 PT) Read in the dataset and show the number of records**"
   ]
  },
  {
   "cell_type": "code",
   "execution_count": 21,
   "metadata": {},
   "outputs": [],
   "source": [
    "df = spark.read.json('/project/ds5559/large_datasets/part-00000-a159c41a-bc58-4476-9b78-c437667f9c2b-c000.json.gz')"
   ]
  },
  {
   "cell_type": "code",
   "execution_count": 5,
   "metadata": {},
   "outputs": [
    {
     "data": {
      "text/plain": [
       "154679"
      ]
     },
     "execution_count": 5,
     "metadata": {},
     "output_type": "execute_result"
    }
   ],
   "source": [
    "df.count()"
   ]
  },
  {
   "cell_type": "markdown",
   "metadata": {},
   "source": [
    "**2. (1 PT) Show the first 5 records**"
   ]
  },
  {
   "cell_type": "code",
   "execution_count": 6,
   "metadata": {},
   "outputs": [
    {
     "name": "stdout",
     "output_type": "stream",
     "text": [
      "+--------------------+--------------------+--------------------+----------------+----+--------------------+--------------------+--------------------+\n",
      "|             address|       business_tags|               hours|              id|menu|             reviews|                urls|             webpage|\n",
      "+--------------------+--------------------+--------------------+----------------+----+--------------------+--------------------+--------------------+\n",
      "|{Woodburn, {45.15...|                null|                null|000023995a540868|null|                  []|{woodburn.k12.or....|{Educational Tech...|\n",
      "|{Hialeah, {25.884...|{[], [{has_atm, Y...|{null, 1900, null...|0000821a1394916e|null|                null|{null, [yelp.com]...|                null|\n",
      "|{Rochester, {43.1...|{[], [{accepts_cr...|{null, 1700, null...|000136e65d50c3b7|null|[{New (to me) qui...|{usps.com, [yelp....|{Welcome | USPS G...|\n",
      "|{West Palm Beach,...|                null|                null|00014329a70b9869|null|                null|                null|                null|\n",
      "|{Eufaula, {35.283...|                null|{null, 1700, null...|00031c0a83f00657|null|                null|{drsodomcoburnand...|{DRS. COBURN, RIC...|\n",
      "+--------------------+--------------------+--------------------+----------------+----+--------------------+--------------------+--------------------+\n",
      "only showing top 5 rows\n",
      "\n"
     ]
    }
   ],
   "source": [
    "df.show(5)"
   ]
  },
  {
   "cell_type": "markdown",
   "metadata": {},
   "source": [
    "**3. (1 PT) Show the first 5 street addresses which are not null**  "
   ]
  },
  {
   "cell_type": "code",
   "execution_count": 9,
   "metadata": {},
   "outputs": [
    {
     "name": "stdout",
     "output_type": "stream",
     "text": [
      "+--------------------+--------------------+--------------------+----------------+----+--------------------+--------------------+--------------------+\n",
      "|             address|       business_tags|               hours|              id|menu|             reviews|                urls|             webpage|\n",
      "+--------------------+--------------------+--------------------+----------------+----+--------------------+--------------------+--------------------+\n",
      "|{Woodburn, {45.15...|                null|                null|000023995a540868|null|                  []|{woodburn.k12.or....|{Educational Tech...|\n",
      "|{Hialeah, {25.884...|{[], [{has_atm, Y...|{null, 1900, null...|0000821a1394916e|null|                null|{null, [yelp.com]...|                null|\n",
      "|{Rochester, {43.1...|{[], [{accepts_cr...|{null, 1700, null...|000136e65d50c3b7|null|[{New (to me) qui...|{usps.com, [yelp....|{Welcome | USPS G...|\n",
      "|{West Palm Beach,...|                null|                null|00014329a70b9869|null|                null|                null|                null|\n",
      "|{Eufaula, {35.283...|                null|{null, 1700, null...|00031c0a83f00657|null|                null|{drsodomcoburnand...|{DRS. COBURN, RIC...|\n",
      "+--------------------+--------------------+--------------------+----------------+----+--------------------+--------------------+--------------------+\n",
      "only showing top 5 rows\n",
      "\n"
     ]
    }
   ],
   "source": [
    "df.filter(df.address.isNotNull()).show(5)"
   ]
  },
  {
   "cell_type": "markdown",
   "metadata": {},
   "source": [
    "**4. (1 PT) Location**  \n",
    "\n",
    "Count the number of records where the city is Phoenix"
   ]
  },
  {
   "cell_type": "code",
   "execution_count": 10,
   "metadata": {},
   "outputs": [
    {
     "data": {
      "text/plain": [
       "762"
      ]
     },
     "execution_count": 10,
     "metadata": {},
     "output_type": "execute_result"
    }
   ],
   "source": [
    "from pyspark.sql.functions import col, length\n",
    "\n",
    "df.filter(col(\"address.city\") == \"Phoenix\").count()"
   ]
  },
  {
   "cell_type": "markdown",
   "metadata": {},
   "source": [
    "**5. (1 PT) Hours**  \n",
    "\n",
    "Count the number of records where closing time on Thursday is 8pm"
   ]
  },
  {
   "cell_type": "code",
   "execution_count": 11,
   "metadata": {},
   "outputs": [
    {
     "data": {
      "text/plain": [
       "3313"
      ]
     },
     "execution_count": 11,
     "metadata": {},
     "output_type": "execute_result"
    }
   ],
   "source": [
    "df.filter(col(\"hours.thursday_close\") == \"2000\").count()"
   ]
  },
  {
   "cell_type": "markdown",
   "metadata": {},
   "source": [
    "**6. (1 PT) Location and Hours**  \n",
    "\n",
    "Count the number of records where city is Phoenix and closing time on Thursday is 8pm"
   ]
  },
  {
   "cell_type": "code",
   "execution_count": 12,
   "metadata": {},
   "outputs": [
    {
     "data": {
      "text/plain": [
       "12"
      ]
     },
     "execution_count": 12,
     "metadata": {},
     "output_type": "execute_result"
    }
   ],
   "source": [
    "df.filter((col(\"address.city\") == \"Phoenix\") & (col(\"hours.thursday_close\") == \"2000\")).count()"
   ]
  },
  {
   "cell_type": "markdown",
   "metadata": {},
   "source": [
    "**7. (1 PT) Price Range**  \n",
    "\n",
    "Price range is quoted in number of dollar signs.  Count the number of records with price range greater than or equal to two."
   ]
  },
  {
   "cell_type": "code",
   "execution_count": 13,
   "metadata": {},
   "outputs": [
    {
     "data": {
      "text/plain": [
       "1135"
      ]
     },
     "execution_count": 13,
     "metadata": {},
     "output_type": "execute_result"
    }
   ],
   "source": [
    "df.filter((col(\"menu.price_range\")) >= 2).count()"
   ]
  },
  {
   "cell_type": "markdown",
   "metadata": {},
   "source": [
    "**8. (1 PT) COMPANY HEADQUARTERS**  \n",
    "\n",
    "For the `address.is_headquarters` field:  \n",
    "how many locations are HQ / are NOT HQ / are null?"
   ]
  },
  {
   "cell_type": "code",
   "execution_count": 14,
   "metadata": {},
   "outputs": [
    {
     "name": "stdout",
     "output_type": "stream",
     "text": [
      "Count of HQ:\n"
     ]
    },
    {
     "data": {
      "text/plain": [
       "318"
      ]
     },
     "execution_count": 14,
     "metadata": {},
     "output_type": "execute_result"
    }
   ],
   "source": [
    "print(\"Count of HQ:\")\n",
    "df.filter(col(\"address.is_headquarters\") == True).count()"
   ]
  },
  {
   "cell_type": "code",
   "execution_count": null,
   "metadata": {},
   "outputs": [],
   "source": [
    "# another way\n",
    "df.filter(col(\"address.is_headquarters\")).count()"
   ]
  },
  {
   "cell_type": "code",
   "execution_count": 15,
   "metadata": {},
   "outputs": [
    {
     "name": "stdout",
     "output_type": "stream",
     "text": [
      "Count of NOT HQ:\n"
     ]
    },
    {
     "data": {
      "text/plain": [
       "66736"
      ]
     },
     "execution_count": 15,
     "metadata": {},
     "output_type": "execute_result"
    }
   ],
   "source": [
    "print(\"Count of NOT HQ:\")\n",
    "df.filter(col(\"address.is_headquarters\") == False).count()"
   ]
  },
  {
   "cell_type": "code",
   "execution_count": 19,
   "metadata": {},
   "outputs": [
    {
     "data": {
      "text/plain": [
       "66736"
      ]
     },
     "execution_count": 19,
     "metadata": {},
     "output_type": "execute_result"
    }
   ],
   "source": [
    "# another way\n",
    "df.filter(~col(\"address.is_headquarters\")).count()"
   ]
  },
  {
   "cell_type": "code",
   "execution_count": 16,
   "metadata": {},
   "outputs": [
    {
     "name": "stdout",
     "output_type": "stream",
     "text": [
      "Count of NULL:\n"
     ]
    },
    {
     "data": {
      "text/plain": [
       "87625"
      ]
     },
     "execution_count": 16,
     "metadata": {},
     "output_type": "execute_result"
    }
   ],
   "source": [
    "print(\"Count of NULL:\")\n",
    "df.filter(col(\"address.is_headquarters\").isNull()).count()"
   ]
  },
  {
   "cell_type": "markdown",
   "metadata": {},
   "source": [
    "**9. (1 PT) Webpage URLs**  \n",
    "\n",
    "Register the dataframe as a temp table.  \n",
    "Next, use Spark SQL to select only the webpage title column, filtering on rows where the webpage url (accessed under `webpage.url`) is *Target.com*. \n",
    "\n",
    "Show only one resulting row and don't truncate the output."
   ]
  },
  {
   "cell_type": "code",
   "execution_count": 23,
   "metadata": {},
   "outputs": [],
   "source": [
    "df.createOrReplaceTempView(\"bsns_temp\")"
   ]
  },
  {
   "cell_type": "code",
   "execution_count": 24,
   "metadata": {},
   "outputs": [
    {
     "name": "stdout",
     "output_type": "stream",
     "text": [
      "+-------------------------------+\n",
      "|title                          |\n",
      "+-------------------------------+\n",
      "|Target : Expect More. Pay Less.|\n",
      "+-------------------------------+\n",
      "\n"
     ]
    }
   ],
   "source": [
    "spark = SparkSession.builder.getOrCreate()\n",
    "query = \"SELECT webpage.title FROM bsns_temp WHERE webpage.url = 'Target.com' LIMIT 1\"\n",
    "result = spark.sql(query)\n",
    "result.show(truncate=False)"
   ]
  },
  {
   "cell_type": "markdown",
   "metadata": {},
   "source": [
    "**10. (1 PT) Analysis on Ratings**  \n",
    "\n",
    "The reviews contains information such as the number of stars for each review (the *rating*).  \n",
    "The ratings are stored in an array (`reviews.stars`) for each business location (you should check for yourself). Return the top five most common rating arrays.  For example, an array might look like: \n",
    "[5, 5]\n",
    "\n"
   ]
  },
  {
   "cell_type": "code",
   "execution_count": 30,
   "metadata": {},
   "outputs": [
    {
     "name": "stdout",
     "output_type": "stream",
     "text": [
      "+------+-----+\n",
      "|stars |count|\n",
      "+------+-----+\n",
      "|null  |74679|\n",
      "|[]    |42419|\n",
      "|[5]   |4258 |\n",
      "|[null]|3067 |\n",
      "|[5, 5]|1610 |\n",
      "+------+-----+\n",
      "\n"
     ]
    }
   ],
   "source": [
    "from pyspark.sql.functions import col, array_sort, desc\n",
    "df.groupBy(\"reviews.stars\").count().sort(desc(\"count\")).limit(5).show(truncate=False)"
   ]
  },
  {
   "cell_type": "markdown",
   "metadata": {},
   "source": [
    "**11. More work with Ratings**  \n",
    "\n",
    "For this question, you will filter out null ratings and then compute the average rating for each business location (using the field: `id`).\n",
    "\n",
    "\n",
    "a) (1 PT) Create a new dataframe retaining two fields: `id`, `reviews.stars`\n"
   ]
  },
  {
   "cell_type": "code",
   "execution_count": 31,
   "metadata": {},
   "outputs": [
    {
     "name": "stdout",
     "output_type": "stream",
     "text": [
      "+----------------+--------------------+\n",
      "|              id|               stars|\n",
      "+----------------+--------------------+\n",
      "|000023995a540868|                  []|\n",
      "|000136e65d50c3b7|              [4, 4]|\n",
      "|0003b7589a4e12a0|                 [5]|\n",
      "|00045f958e4bb02a|[null, null, null...|\n",
      "|00059519f0dba1b4|[null, null, null...|\n",
      "|0006d5aa170bae22|                  []|\n",
      "|0008bc70f8ba62bf|              [null]|\n",
      "|000a1df4c8e0ecd2|[null, null, 4, 5...|\n",
      "|000bf1e934ac9cb6|                  []|\n",
      "|000c4037ef6d4b3b|                  []|\n",
      "|000c7b7a30623083|                 [5]|\n",
      "|000c9ffc8b89af03|[5, 2, 5, 3, 3, 1...|\n",
      "|000ca67c3cf252e5|                  []|\n",
      "|000de20baa847ecc|  [1, 1, 1, 1, 5, 1]|\n",
      "|000e439e7667839d|                  []|\n",
      "|001064359d9f162f|     [5, 5, 5, 5, 5]|\n",
      "|0010c9f495d87dd7|[5, 1, 1, 5, 3, 5...|\n",
      "|0012eac5aaf0bd45|                  []|\n",
      "|0013cd52c783f818|                  []|\n",
      "|0017774db5e6400a|[null, 5, 5, 5, 5...|\n",
      "+----------------+--------------------+\n",
      "only showing top 20 rows\n",
      "\n"
     ]
    }
   ],
   "source": [
    "new_df = df.filter(col(\"reviews.stars\").isNotNull()).select(\"id\", \"reviews.stars\")\n",
    "new_df.show()"
   ]
  },
  {
   "cell_type": "markdown",
   "metadata": {},
   "source": [
    "b) (1 PT) Create a row for each rating  \n",
    "hint: use the `withColumn()` and `explode()` functions  \n",
    "you will need to import the `explode()` function by issuing:\n",
    "\n",
    "`from pyspark.sql.functions import explode`\n"
   ]
  },
  {
   "cell_type": "code",
   "execution_count": 38,
   "metadata": {},
   "outputs": [
    {
     "name": "stdout",
     "output_type": "stream",
     "text": [
      "+----------------+------+\n",
      "|              id|rating|\n",
      "+----------------+------+\n",
      "|000136e65d50c3b7|     4|\n",
      "|000136e65d50c3b7|     4|\n",
      "|0003b7589a4e12a0|     5|\n",
      "|00045f958e4bb02a|  null|\n",
      "|00045f958e4bb02a|  null|\n",
      "|00045f958e4bb02a|  null|\n",
      "|00045f958e4bb02a|  null|\n",
      "|00059519f0dba1b4|  null|\n",
      "|00059519f0dba1b4|  null|\n",
      "|00059519f0dba1b4|  null|\n",
      "|00059519f0dba1b4|  null|\n",
      "|00059519f0dba1b4|  null|\n",
      "|00059519f0dba1b4|  null|\n",
      "|00059519f0dba1b4|  null|\n",
      "|00059519f0dba1b4|  null|\n",
      "|00059519f0dba1b4|     1|\n",
      "|00059519f0dba1b4|     5|\n",
      "|00059519f0dba1b4|     2|\n",
      "|00059519f0dba1b4|     4|\n",
      "|00059519f0dba1b4|     5|\n",
      "+----------------+------+\n",
      "only showing top 20 rows\n",
      "\n"
     ]
    }
   ],
   "source": [
    "# explode function \n",
    "# id1 has a [5,5,4,3,2] -> column[id,rating;1,5;1,5;] # same to R melt\n",
    "from pyspark.sql.functions import explode\n",
    "\n",
    "explode_df = df.withColumn(\"rating\", explode(\"reviews.stars\"))\n",
    "explode_df.select(\"id\",\"rating\").show()"
   ]
  },
  {
   "cell_type": "markdown",
   "metadata": {},
   "source": [
    "c) (1 PT) Return a count of the number of ratings in this dataframe"
   ]
  },
  {
   "cell_type": "code",
   "execution_count": 39,
   "metadata": {},
   "outputs": [
    {
     "data": {
      "text/plain": [
       "600082"
      ]
     },
     "execution_count": 39,
     "metadata": {},
     "output_type": "execute_result"
    }
   ],
   "source": [
    "explode_df.select(\"rating\").count()"
   ]
  },
  {
   "cell_type": "markdown",
   "metadata": {},
   "source": [
    "d) (1 PT) Drop rows where the rating is null, and return a count of the number of non-null ratings"
   ]
  },
  {
   "cell_type": "code",
   "execution_count": 40,
   "metadata": {},
   "outputs": [
    {
     "data": {
      "text/plain": [
       "538241"
      ]
     },
     "execution_count": 40,
     "metadata": {},
     "output_type": "execute_result"
    }
   ],
   "source": [
    "explode_df.select(\"rating\").filter(col(\"rating\").isNotNull()).count()"
   ]
  },
  {
   "cell_type": "markdown",
   "metadata": {},
   "source": [
    "e) (1 PT) Compute the average rating, grouped by `id`. After the average is computed, sort by `id` in ascending order and show the top 10 records.  \n",
    " \n",
    "hint:   \n",
    "this can all be done in one line using the `agg()` function  \n",
    "this `id` should be at the top: 000136e65d50c3b7"
   ]
  },
  {
   "cell_type": "code",
   "execution_count": 44,
   "metadata": {},
   "outputs": [
    {
     "name": "stdout",
     "output_type": "stream",
     "text": [
      "+----------------+------------------+\n",
      "|              id|    average_rating|\n",
      "+----------------+------------------+\n",
      "|000136e65d50c3b7|               4.0|\n",
      "|0003b7589a4e12a0|               5.0|\n",
      "|00045f958e4bb02a|              null|\n",
      "|00059519f0dba1b4|3.3333333333333335|\n",
      "|0008bc70f8ba62bf|              null|\n",
      "|000a1df4c8e0ecd2|               4.6|\n",
      "|000c7b7a30623083|               5.0|\n",
      "|000c9ffc8b89af03|               3.0|\n",
      "|000de20baa847ecc|1.6666666666666667|\n",
      "|001064359d9f162f|               5.0|\n",
      "+----------------+------------------+\n",
      "only showing top 10 rows\n",
      "\n"
     ]
    }
   ],
   "source": [
    "from pyspark.sql.functions import avg\n",
    "\n",
    "explode_df.groupBy(\"id\").agg(avg(\"rating\").alias(\"average_rating\")).orderBy(\"id\").show(10)"
   ]
  },
  {
   "cell_type": "code",
   "execution_count": 46,
   "metadata": {},
   "outputs": [
    {
     "name": "stdout",
     "output_type": "stream",
     "text": [
      "+-------+----------------+\n",
      "|summary|              id|\n",
      "+-------+----------------+\n",
      "|  count|          154679|\n",
      "|   mean|        Infinity|\n",
      "| stddev|             NaN|\n",
      "|    min|000023995a540868|\n",
      "|    max|fffed87e613292b7|\n",
      "+-------+----------------+\n",
      "\n"
     ]
    }
   ],
   "source": [
    "df.describe(\"id\").show()"
   ]
  },
  {
   "cell_type": "code",
   "execution_count": null,
   "metadata": {},
   "outputs": [],
   "source": []
  }
 ],
 "metadata": {
  "anaconda-cloud": {},
  "kernelspec": {
   "display_name": "Python 3",
   "language": "python",
   "name": "python3"
  },
  "language_info": {
   "codemirror_mode": {
    "name": "ipython",
    "version": 3
   },
   "file_extension": ".py",
   "mimetype": "text/x-python",
   "name": "python",
   "nbconvert_exporter": "python",
   "pygments_lexer": "ipython3",
   "version": "3.8.8"
  }
 },
 "nbformat": 4,
 "nbformat_minor": 4
}
