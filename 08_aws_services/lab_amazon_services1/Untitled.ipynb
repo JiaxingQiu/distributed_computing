{
 "cells": [
  {
   "cell_type": "markdown",
   "metadata": {},
   "source": [
    "boto3 package\n",
    "\n",
    "aws sdk for python\n",
    "console\n",
    "command line \n",
    "sdk\n",
    "sagemaker studio\n",
    "\n",
    "multi tenant\n",
    "multiple users share one machine, virtual machine, multiple os generated on one machine\n",
    "\n",
    "\n",
    "private key (key) store on own machine / public key (lock) store on amazon\n",
    "\n",
    "Virtual server type (instance type)\n",
    "t2.micro is tiny\n",
    "aws.../ec2/instance-types\n",
    "\n",
    "more than 90% of 500 fortume companies use cloud computing\n",
    "\n",
    "IAM used to manage access"
   ]
  }
 ],
 "metadata": {
  "kernelspec": {
   "display_name": "Python 3",
   "language": "python",
   "name": "python3"
  },
  "language_info": {
   "codemirror_mode": {
    "name": "ipython",
    "version": 3
   },
   "file_extension": ".py",
   "mimetype": "text/x-python",
   "name": "python",
   "nbconvert_exporter": "python",
   "pygments_lexer": "ipython3",
   "version": "3.8.8"
  }
 },
 "nbformat": 4,
 "nbformat_minor": 4
}
