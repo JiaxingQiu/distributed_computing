{
 "cells": [
  {
   "cell_type": "markdown",
   "metadata": {},
   "source": [
    "## Lab Assignment: Analytics on Glassdoor Reviews and Yelp Category Data\n",
    "\n",
    "### University of Virginia\n",
    "### DS 7200: Distributed Computing\n",
    "### Last Updated: August 20, 2023\n",
    "\n",
    "\n",
    "#### Jiaxing (Joy) Qiu\n",
    "#### JQ2UW\n",
    "---"
   ]
  },
  {
   "cell_type": "markdown",
   "metadata": {},
   "source": [
    "### OBJECTIVE  \n",
    "\n",
    "In this assignment, you will perform some basic analytics on review and category data.  \n",
    "This will entail performing operations on *RDDs*, and using *list comprehensions*.   \n",
    "\n",
    "As this assignment covers RDDs, do not use DataFrames.\n",
    "\n",
    "Read in the dataset and perform the steps requested below.\n",
    "\n",
    "#### TOTAL POINTS = 10\n",
    "\n",
    "---"
   ]
  },
  {
   "cell_type": "markdown",
   "metadata": {},
   "source": [
    "### Config Setup"
   ]
  },
  {
   "cell_type": "code",
   "execution_count": 31,
   "metadata": {},
   "outputs": [],
   "source": [
    "from pyspark.sql import SparkSession\n",
    "\n",
    "spark = SparkSession \\\n",
    "    .builder \\\n",
    "    .master(\"local\") \\\n",
    "    .appName(\"review_and_category_analytics\") \\\n",
    "    .config(\"spark.executor.memory\", '8g') \\\n",
    "    .config('spark.executor.cores', '4') \\\n",
    "    .config('spark.cores.max', '4') \\\n",
    "    .config(\"spark.driver.memory\",'1g') \\\n",
    "    .getOrCreate()\n",
    "\n",
    "sc = spark.sparkContext"
   ]
  },
  {
   "cell_type": "markdown",
   "metadata": {},
   "source": [
    "Read in the dataset  "
   ]
  },
  {
   "cell_type": "code",
   "execution_count": 32,
   "metadata": {},
   "outputs": [],
   "source": [
    "df = sc.textFile(\"reviews_and_categories.csv\")\n",
    "#df.take(10)"
   ]
  },
  {
   "cell_type": "markdown",
   "metadata": {},
   "source": [
    "Get non-header records  "
   ]
  },
  {
   "cell_type": "code",
   "execution_count": 33,
   "metadata": {},
   "outputs": [],
   "source": [
    "header = df.first()\n",
    "df = df.filter(lambda x: x != header)"
   ]
  },
  {
   "cell_type": "markdown",
   "metadata": {},
   "source": [
    "Print the first 2 records (note: exclude the header in all calculations)"
   ]
  },
  {
   "cell_type": "code",
   "execution_count": 34,
   "metadata": {},
   "outputs": [
    {
     "data": {
      "text/plain": [
       "['0,,\"[\\'point of interest\\', \\'mexican\\', \\'establishment\\', \\'food\\', \\'restaurant\\']\"',\n",
       " '1,,[]']"
      ]
     },
     "execution_count": 34,
     "metadata": {},
     "output_type": "execute_result"
    }
   ],
   "source": [
    "df.take(2)"
   ]
  },
  {
   "cell_type": "markdown",
   "metadata": {},
   "source": [
    "**1) get a record count (2 POINTS)**"
   ]
  },
  {
   "cell_type": "code",
   "execution_count": 35,
   "metadata": {},
   "outputs": [
    {
     "data": {
      "text/plain": [
       "1302"
      ]
     },
     "execution_count": 35,
     "metadata": {},
     "output_type": "execute_result"
    }
   ],
   "source": [
    "df.count()"
   ]
  },
  {
   "cell_type": "markdown",
   "metadata": {},
   "source": [
    "**2) get a count of records with non-missing reviews (2 POINTS)**"
   ]
  },
  {
   "cell_type": "code",
   "execution_count": 49,
   "metadata": {},
   "outputs": [
    {
     "data": {
      "text/plain": [
       "305"
      ]
     },
     "execution_count": 49,
     "metadata": {},
     "output_type": "execute_result"
    }
   ],
   "source": [
    "import csv\n",
    "df1 = df.map(lambda str_row: [ \"{}\".format(x) \\\n",
    "                        for x in list(csv.reader([str_row], delimiter=',', quotechar='\"'))[0] ])\\\n",
    "    .filter(lambda str_list_row: str_list_row[1]!='')\n",
    "df1.count()"
   ]
  },
  {
   "cell_type": "code",
   "execution_count": 50,
   "metadata": {},
   "outputs": [
    {
     "data": {
      "text/plain": [
       "[['3',\n",
       "  'Some franchise owners dock hours. Pros Good discounts on the food. Cons The location where I was working, in North Fresno near Riverpark Mall, was ran by the owner s father who treated the female staff with contempt and derision. Would yell at the staff, in front of the guests, if they didn t exactly follow his formula for making the sandwiches (even when the staff were trying to fulfill the special requests of the guests). He would clock out the closers (with or without their knowledge) before they were done with their tasks, and ask employees to stay an hour or two past the end of their shift, but would not pay them for their time.',\n",
       "  \"['lunch', 'best sandwich', 'entertainment', 'restaurants', 'sub', 'arizona', 'quick', 'social networks', 'washington', 'catering reno', 'establishment', 'nevada', 'restaurant', 'wraps', 'qsr', 'small business', 'meal takeaway', 'hospitality', 'sandwich', 'franchise', 'seminars', 'deli', 'point of interest', 'sandwiches', 'port', 'other', 'food', 'party trays reno', 'service', 'entrepeneur', 'franchises', 'fast food', 'grillers', 'griller', 'salad', 'management', 'businesses', 'self employed', 'wrap', 'submarine', 'delis', 'lake tahoe', 'boss', 'salads', 'trade shows', 'eating places', 'franchising', 'reno', 'subs', 'phoenix']\"],\n",
       " ['10',\n",
       "  'Bushs chicken..more writeups then checks Pros Paid weekly. Nice visor If you have another job they ll work with your schedule Cons This is for belton 1 near the hs. Stuck on counter and drink duty..no tips because customers are too cheap. Carhops are paid way more. I signed up for that but it was only given to veterans. Unrealistic expectations for closing on time. As front of house, you clean the restaurant part, the bathrooms and are still expected to serve customers until 9 00pm..it gets dirty again just silly. Some unrealistic time for getting your duty done and yet u still get wrote up. Why even clean well You might as well work half butt. Most of my writeups were for this. How does 1 person do everything for the front while the carhops get to work more as a team at closing time. Little odd how they run it. I worked at sonic and was only given 1 write up in 8 months and not for cleaning up at the end..just amateur. Here 6 in 2 months. Too many chiefs not enough Indians. I HIGHLY don t recommend working if you re considered cheap labor like I was. Got hired somewhere else knowing I was gonna be fired eventually. There is literally no business in the restaurant only outside. They re looking for the cheapest labor but they are the quickest to be written up. Other restaurants truly value their lowest paid workers. Beware do not work here!',\n",
       "  \"['fried chicken joint', 'american restaurant', 'chicken wings', 'restaurants', 'no outdoor seating', 'price', 'dining options', ' livers', 'fried chicken', 'gizzards', 'fast food restaurant', 'fast food', 'eating places', 'point of interest', 'restaurant', 'dinner, lunch & more', 'menus', ' sweet tea', 'establishment', 'other', 'food']\"],\n",
       " ['19',\n",
       "  'cashier Pros fun environment and employees were friendly Cons Sometimes they do not have enough employees',\n",
       "  \"['credit cards', 'restaurants', 'no reservations', 'no outdoor seating', 'colorado', 'menus', 'style pizza', 'establishment', 'price', '90 min', 'point of interest', 'pizza', 'other', 'food', 'dining options', 'italian', 'napoleon', 'pizza place', 'delivery', 'denver', 'dinner, lunch & more', 'eating places', 'boulder', 'restaurant', 'building']\"],\n",
       " ['22',\n",
       "  'Roller Coaster Experience Pros Flexible Hours, Unique service experience, and reasonable tips Cons Constant micromanagement from Ownership, Unorganized, no value emphasized in employees',\n",
       "  \"['good for groups', 'casual', 'worth the drive', 'contemporary american', 'good for a date', 'good for birthdays', 'comfort food', 'cozy', 'fit for foodies', 'breakfast & brunch', 'notable wine list', 'eating places', 'afternoon coffee', 'romantic', 'handcrafted cocktails', 'great for brunch', 'other', 'american (new)']\"],\n",
       " ['24',\n",
       "  'Tips were okay for a small town. Pros You work for tips, so the harder you work and the more attractive you are, the more money you generally make. Cons Scheduling is often inconsistent, and sometimes customers screw you on the tip.',\n",
       "  '[\\'credit cards\\', \\'no outdoor seating\\', \\'menus\\', \\'restuarant\\', \\'establishment\\', \\'steakhouses\\', \\'price\\', \\'grill\\', \\'point of interest\\', \\'seafood\\', \\'other\\', \\'food\\', \\'american (traditional)\\', \\'$$\\', \\'steak\\', \\'coltons\\', \"colton\\'s\", \\'dinner, lunch & more\\', \\'eating places\\', \\'restaurant\\', \"colton\\'s steakhouse\", \\'steakhouse\\']']]"
      ]
     },
     "execution_count": 50,
     "metadata": {},
     "output_type": "execute_result"
    }
   ],
   "source": [
    "df1.take(5)"
   ]
  },
  {
   "cell_type": "markdown",
   "metadata": {},
   "source": [
    "**3) Return the count of records where review contains the word *flexible*  (1 POINT)**"
   ]
  },
  {
   "cell_type": "code",
   "execution_count": 51,
   "metadata": {},
   "outputs": [
    {
     "data": {
      "text/plain": [
       "36"
      ]
     },
     "execution_count": 51,
     "metadata": {},
     "output_type": "execute_result"
    }
   ],
   "source": [
    "df2 = df1.filter(lambda x: 'flexible' in x[1])\n",
    "\n",
    "df2.count()"
   ]
  },
  {
   "cell_type": "markdown",
   "metadata": {},
   "source": [
    "Print the records where review contains the word *flexible*"
   ]
  },
  {
   "cell_type": "markdown",
   "metadata": {},
   "source": [
    "**4) Lowercase all reviews, then return the count of records where review contains the word *flexible* (1 POINT)**"
   ]
  },
  {
   "cell_type": "code",
   "execution_count": 52,
   "metadata": {},
   "outputs": [
    {
     "data": {
      "text/plain": [
       "44"
      ]
     },
     "execution_count": 52,
     "metadata": {},
     "output_type": "execute_result"
    }
   ],
   "source": [
    "df3 = df1.filter(lambda x: 'flexible' in x[1].lower())\n",
    "df3.count()"
   ]
  },
  {
   "cell_type": "code",
   "execution_count": null,
   "metadata": {},
   "outputs": [],
   "source": []
  },
  {
   "cell_type": "code",
   "execution_count": null,
   "metadata": {},
   "outputs": [],
   "source": []
  },
  {
   "cell_type": "markdown",
   "metadata": {},
   "source": [
    "**5) Return the top 10 most frequent categories  (4 POINTS)**  \n",
    "\n",
    "Preprocess the categories by:  \n",
    "* stripping characters: &nbsp; [ &nbsp; ] &nbsp;  ' &nbsp;  \"  \n",
    "* trim spaces before and after words  \n",
    "* lowercase\n",
    "* removing blank categories\n",
    "\n",
    "NOTE: Be sure to keep terms together, for example 'jet skiing' should not become 'jet', 'skiing'"
   ]
  },
  {
   "cell_type": "code",
   "execution_count": 53,
   "metadata": {},
   "outputs": [],
   "source": [
    "df = sc.textFile(\"reviews_and_categories.csv\")\n",
    "header = df.first()\n",
    "df = df.filter(lambda x: x != header)\n"
   ]
  },
  {
   "cell_type": "code",
   "execution_count": 97,
   "metadata": {},
   "outputs": [
    {
     "data": {
      "text/plain": [
       "[\"['point of interest', 'mexican', 'establishment', 'food', 'restaurant']\",\n",
       " '[]',\n",
       " \"['other', 'food & beverages']\",\n",
       " \"['lunch', 'best sandwich', 'entertainment', 'restaurants', 'sub', 'arizona', 'quick', 'social networks', 'washington', 'catering reno', 'establishment', 'nevada', 'restaurant', 'wraps', 'qsr', 'small business', 'meal takeaway', 'hospitality', 'sandwich', 'franchise', 'seminars', 'deli', 'point of interest', 'sandwiches', 'port', 'other', 'food', 'party trays reno', 'service', 'entrepeneur', 'franchises', 'fast food', 'grillers', 'griller', 'salad', 'management', 'businesses', 'self employed', 'wrap', 'submarine', 'delis', 'lake tahoe', 'boss', 'salads', 'trade shows', 'eating places', 'franchising', 'reno', 'subs', 'phoenix']\",\n",
       " '[]',\n",
       " \"['point of interest', 'establishment', 'food', 'restaurant']\",\n",
       " \"['dining options', 'credit cards', 'no reservations', 'no outdoor seating', 'price', 'huaraches', 'baja tacos', 'menus', 'dinner, lunch & more', 'mexican restaurant', 'salsa bar', 'restaurant', 'point of interest', 'apartment building operators', 'establishment', 'food']\",\n",
       " \"['fried chicken joint', 'american restaurant', 'chicken wings', 'restaurants', 'no outdoor seating', 'price', 'dining options', ' livers', 'fried chicken', 'gizzards', 'fast food restaurant', 'fast food', 'eating places', 'point of interest', 'restaurant', 'dinner, lunch & more', 'menus', ' sweet tea', 'establishment', 'other', 'food']\",\n",
       " '[]',\n",
       " '[\\'credit cards\\', \\'cps\\', \\'restaurants\\', \\'cheesesteaks\\', \\'grilled subs\\', \"charley\\'s\", \\'philly\\', \\'establishment\\', \\'price\\', \\'meal takeaway\\', \\'hospitality\\', \\'columbus\\', \\'point of interest\\', \\'shopping\\', \\'sandwiches\\', \\'delicious bread\\', \\'food\\', \\'regular drink\\', \\'charleys\\', \\'other\\', \\'dining options\\', \\'premium ingredients\\', \\'sandwich and deli\\', \\'restaurant chains\\', \\'sandwich place\\', \\'fast food\\', \\'store\\', \\'fast food restaurant\\', \\'free fries\\', \\'restaurant\\']']"
      ]
     },
     "execution_count": 97,
     "metadata": {},
     "output_type": "execute_result"
    }
   ],
   "source": [
    "# keep the category column\n",
    "df4 = df.map(lambda str_row: [ \"{}\".format(x) \\\n",
    "                        for x in list(csv.reader([str_row], delimiter=',', quotechar='\"'))[0] ])\\\n",
    "    .map(lambda x: x[2])\n",
    "\n",
    "df4.take(10)"
   ]
  },
  {
   "cell_type": "code",
   "execution_count": 98,
   "metadata": {},
   "outputs": [
    {
     "data": {
      "text/plain": [
       "['point of interest',\n",
       " 'mexican',\n",
       " 'establishment',\n",
       " 'food',\n",
       " 'restaurant',\n",
       " '',\n",
       " 'other',\n",
       " 'food & beverages',\n",
       " 'lunch',\n",
       " 'best sandwich']"
      ]
     },
     "execution_count": 98,
     "metadata": {},
     "output_type": "execute_result"
    }
   ],
   "source": [
    "df4 = df4.map(lambda x: re.sub('[\\[\\]\\\\\\']', '', x))\\\n",
    "    .map(lambda x: x.split(','))\\\n",
    "    .flatMap(lambda x: [i.rstrip().lstrip().lower() for i in x])\n",
    "\n",
    "df4.take(10)"
   ]
  },
  {
   "cell_type": "code",
   "execution_count": 101,
   "metadata": {},
   "outputs": [
    {
     "data": {
      "text/plain": [
       "[(717, 'point of interest'),\n",
       " (717, 'establishment'),\n",
       " (716, 'food'),\n",
       " (659, 'restaurant'),\n",
       " (496, 'price'),\n",
       " (482, 'other'),\n",
       " (435, ''),\n",
       " (331, 'credit cards'),\n",
       " (311, 'menus'),\n",
       " (291, 'eating places')]"
      ]
     },
     "execution_count": 101,
     "metadata": {},
     "output_type": "execute_result"
    }
   ],
   "source": [
    "df5_w_empty = df4.map(lambda x: (x,1))\\\n",
    "    .reduceByKey(lambda x,y:x+y) \\\n",
    "    .map(lambda x:(x[1],x[0])) \\\n",
    "    .sortByKey(False)\n",
    "\n",
    "df5_w_empty.take(10)"
   ]
  },
  {
   "cell_type": "code",
   "execution_count": 102,
   "metadata": {},
   "outputs": [
    {
     "data": {
      "text/plain": [
       "[(717, 'point of interest'),\n",
       " (717, 'establishment'),\n",
       " (716, 'food'),\n",
       " (659, 'restaurant'),\n",
       " (496, 'price'),\n",
       " (482, 'other'),\n",
       " (331, 'credit cards'),\n",
       " (311, 'menus'),\n",
       " (291, 'eating places'),\n",
       " (274, 'dining options')]"
      ]
     },
     "execution_count": 102,
     "metadata": {},
     "output_type": "execute_result"
    }
   ],
   "source": [
    "df5_wo_empty = df4.filter(lambda x: x != '')\\\n",
    "    .map(lambda x: (x,1))\\\n",
    "    .reduceByKey(lambda x,y:x+y) \\\n",
    "    .map(lambda x:(x[1],x[0])) \\\n",
    "    .sortByKey(False)\n",
    "\n",
    "df5_wo_empty.take(10)"
   ]
  },
  {
   "cell_type": "code",
   "execution_count": null,
   "metadata": {},
   "outputs": [],
   "source": []
  }
 ],
 "metadata": {
  "anaconda-cloud": {},
  "kernelspec": {
   "display_name": "DS5110 Spark 3.3",
   "language": "python",
   "name": "ds5110_spark3.3"
  },
  "language_info": {
   "codemirror_mode": {
    "name": "ipython",
    "version": 3
   },
   "file_extension": ".py",
   "mimetype": "text/x-python",
   "name": "python",
   "nbconvert_exporter": "python",
   "pygments_lexer": "ipython3",
   "version": "3.7.12"
  }
 },
 "nbformat": 4,
 "nbformat_minor": 4
}
